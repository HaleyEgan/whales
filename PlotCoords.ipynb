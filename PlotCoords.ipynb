{
 "cells": [
  {
   "cell_type": "markdown",
   "id": "e9157585-f769-464b-a642-c9e21a3fb154",
   "metadata": {},
   "source": [
    "## Plot GPS Coordinates to Map \n",
    "- varify coastal ports"
   ]
  },
  {
   "cell_type": "code",
   "execution_count": 7,
   "id": "b0339383-8af9-49e0-9c54-6da60a6e0cc7",
   "metadata": {},
   "outputs": [],
   "source": [
    "import pandas as pd\n",
    "import numpy as np\n",
    "import matplotlib.pyplot as plt"
   ]
  },
  {
   "cell_type": "code",
   "execution_count": 40,
   "id": "9b626a36-14bd-4b50-8378-7510941fac8d",
   "metadata": {},
   "outputs": [],
   "source": [
    "#load datasets\n",
    "coastal = pd.read_csv('CoastalPorts.csv')\n",
    "other = pd.read_csv('OtherPorts.csv')"
   ]
  },
  {
   "cell_type": "code",
   "execution_count": 41,
   "id": "32cd3e7b-fcac-4a64-a4db-1bc600be21c4",
   "metadata": {},
   "outputs": [
    {
     "data": {
      "text/html": [
       "<div>\n",
       "<style scoped>\n",
       "    .dataframe tbody tr th:only-of-type {\n",
       "        vertical-align: middle;\n",
       "    }\n",
       "\n",
       "    .dataframe tbody tr th {\n",
       "        vertical-align: top;\n",
       "    }\n",
       "\n",
       "    .dataframe thead th {\n",
       "        text-align: right;\n",
       "    }\n",
       "</style>\n",
       "<table border=\"1\" class=\"dataframe\">\n",
       "  <thead>\n",
       "    <tr style=\"text-align: right;\">\n",
       "      <th></th>\n",
       "      <th>Country Code</th>\n",
       "      <th>Port Location</th>\n",
       "      <th>Port Name</th>\n",
       "      <th>Port Authority</th>\n",
       "      <th>Address</th>\n",
       "      <th>Phone</th>\n",
       "      <th>Fax</th>\n",
       "      <th>800 Number</th>\n",
       "      <th>Email</th>\n",
       "      <th>Web Site</th>\n",
       "      <th>Latitude</th>\n",
       "      <th>Longitude</th>\n",
       "      <th>UN/LOCODE</th>\n",
       "      <th>Port Type</th>\n",
       "      <th>Port Size</th>\n",
       "      <th>Country</th>\n",
       "    </tr>\n",
       "  </thead>\n",
       "  <tbody>\n",
       "    <tr>\n",
       "      <th>0</th>\n",
       "      <td>ALB</td>\n",
       "      <td>Durres</td>\n",
       "      <td>Port of Durres</td>\n",
       "      <td>Durres Port Authority</td>\n",
       "      <td>Kapitenerija e Portit\\nL Nr 1 Rruga Tregtare\\n...</td>\n",
       "      <td>355 52 23115</td>\n",
       "      <td>355 52 22028</td>\n",
       "      <td>NaN</td>\n",
       "      <td>apd@san.com.al</td>\n",
       "      <td>NaN</td>\n",
       "      <td>41° 18' 28\" N</td>\n",
       "      <td>19° 27' 17\" E</td>\n",
       "      <td>ALDRZ</td>\n",
       "      <td>Seaport</td>\n",
       "      <td>Small</td>\n",
       "      <td>NaN</td>\n",
       "    </tr>\n",
       "    <tr>\n",
       "      <th>1</th>\n",
       "      <td>ALB</td>\n",
       "      <td>Sarande</td>\n",
       "      <td>Port of Sarande</td>\n",
       "      <td>Sarande Port Authority</td>\n",
       "      <td>Port Office\\nSarande Port\\nSarande\\nAlbania</td>\n",
       "      <td>355 85 25827</td>\n",
       "      <td>355 85 25827</td>\n",
       "      <td>NaN</td>\n",
       "      <td>NaN</td>\n",
       "      <td>NaN</td>\n",
       "      <td>39° 52' 19\" N</td>\n",
       "      <td>20° 0' 20\" E</td>\n",
       "      <td>ALSAR</td>\n",
       "      <td>Pier, Jetty or Wharf</td>\n",
       "      <td>Small</td>\n",
       "      <td>NaN</td>\n",
       "    </tr>\n",
       "    <tr>\n",
       "      <th>2</th>\n",
       "      <td>ALB</td>\n",
       "      <td>Vlore</td>\n",
       "      <td>Port of Vlore</td>\n",
       "      <td>Vlore Drejtoria e Portit Detar</td>\n",
       "      <td>Albania</td>\n",
       "      <td>NaN</td>\n",
       "      <td>NaN</td>\n",
       "      <td>NaN</td>\n",
       "      <td>porti-vlore@aul.com.al</td>\n",
       "      <td>NaN</td>\n",
       "      <td>40° 28' 7\" N</td>\n",
       "      <td>19° 27' 36\" E</td>\n",
       "      <td>ALVOA</td>\n",
       "      <td>Seaport</td>\n",
       "      <td>Small</td>\n",
       "      <td>NaN</td>\n",
       "    </tr>\n",
       "    <tr>\n",
       "      <th>3</th>\n",
       "      <td>DZA</td>\n",
       "      <td>Algiers</td>\n",
       "      <td>Port of Algiers</td>\n",
       "      <td>Entreprise Portuaire d'Alger</td>\n",
       "      <td>02 Rue d'Angkor\\nBP 259\\nAlgiers, Gare 259\\nAl...</td>\n",
       "      <td>213 21 423614</td>\n",
       "      <td>213 21 423603</td>\n",
       "      <td>NaN</td>\n",
       "      <td>epal@portalger.com.dz</td>\n",
       "      <td>www.portalger.com.dz</td>\n",
       "      <td>36° 46' 25\" N</td>\n",
       "      <td>3° 4' 2\" E</td>\n",
       "      <td>DZALG</td>\n",
       "      <td>Deepwater Seaport</td>\n",
       "      <td>Large</td>\n",
       "      <td>NaN</td>\n",
       "    </tr>\n",
       "    <tr>\n",
       "      <th>4</th>\n",
       "      <td>DZA</td>\n",
       "      <td>Annaba</td>\n",
       "      <td>Port of Annaba</td>\n",
       "      <td>Entreprise Portuaire de Annaba</td>\n",
       "      <td>Mole Cigogne\\nQuai Nord\\nAnnaba 1232 - 23000\\n...</td>\n",
       "      <td>213 38 86 3143</td>\n",
       "      <td>213 38 86 54 15</td>\n",
       "      <td>NaN</td>\n",
       "      <td>epan@annaba-port.com</td>\n",
       "      <td>www.annaba-port.com</td>\n",
       "      <td>36° 54' 2\" N</td>\n",
       "      <td>7° 46' 21\" E</td>\n",
       "      <td>DZAAE</td>\n",
       "      <td>Seaport</td>\n",
       "      <td>Medium</td>\n",
       "      <td>NaN</td>\n",
       "    </tr>\n",
       "  </tbody>\n",
       "</table>\n",
       "</div>"
      ],
      "text/plain": [
       "  Country Code Port Location        Port Name                  Port Authority  \\\n",
       "0          ALB        Durres   Port of Durres           Durres Port Authority   \n",
       "1          ALB       Sarande  Port of Sarande          Sarande Port Authority   \n",
       "2          ALB         Vlore    Port of Vlore  Vlore Drejtoria e Portit Detar   \n",
       "3          DZA       Algiers  Port of Algiers    Entreprise Portuaire d'Alger   \n",
       "4          DZA        Annaba   Port of Annaba  Entreprise Portuaire de Annaba   \n",
       "\n",
       "                                             Address           Phone  \\\n",
       "0  Kapitenerija e Portit\\nL Nr 1 Rruga Tregtare\\n...    355 52 23115   \n",
       "1        Port Office\\nSarande Port\\nSarande\\nAlbania    355 85 25827   \n",
       "2                                            Albania             NaN   \n",
       "3  02 Rue d'Angkor\\nBP 259\\nAlgiers, Gare 259\\nAl...   213 21 423614   \n",
       "4  Mole Cigogne\\nQuai Nord\\nAnnaba 1232 - 23000\\n...  213 38 86 3143   \n",
       "\n",
       "               Fax 800 Number                   Email              Web Site  \\\n",
       "0     355 52 22028        NaN          apd@san.com.al                   NaN   \n",
       "1     355 85 25827        NaN                     NaN                   NaN   \n",
       "2              NaN        NaN  porti-vlore@aul.com.al                   NaN   \n",
       "3    213 21 423603        NaN   epal@portalger.com.dz  www.portalger.com.dz   \n",
       "4  213 38 86 54 15        NaN    epan@annaba-port.com   www.annaba-port.com   \n",
       "\n",
       "        Latitude      Longitude UN/LOCODE             Port Type Port Size  \\\n",
       "0  41° 18' 28\" N  19° 27' 17\" E     ALDRZ               Seaport     Small   \n",
       "1  39° 52' 19\" N   20° 0' 20\" E     ALSAR  Pier, Jetty or Wharf     Small   \n",
       "2   40° 28' 7\" N  19° 27' 36\" E     ALVOA               Seaport     Small   \n",
       "3  36° 46' 25\" N     3° 4' 2\" E     DZALG     Deepwater Seaport     Large   \n",
       "4   36° 54' 2\" N   7° 46' 21\" E     DZAAE               Seaport    Medium   \n",
       "\n",
       "   Country  \n",
       "0      NaN  \n",
       "1      NaN  \n",
       "2      NaN  \n",
       "3      NaN  \n",
       "4      NaN  "
      ]
     },
     "execution_count": 41,
     "metadata": {},
     "output_type": "execute_result"
    }
   ],
   "source": [
    "coastal.head()"
   ]
  },
  {
   "cell_type": "code",
   "execution_count": 42,
   "id": "6816f01d-a211-44d8-9fb2-e5f7aefbb10a",
   "metadata": {},
   "outputs": [
    {
     "data": {
      "text/html": [
       "<div>\n",
       "<style scoped>\n",
       "    .dataframe tbody tr th:only-of-type {\n",
       "        vertical-align: middle;\n",
       "    }\n",
       "\n",
       "    .dataframe tbody tr th {\n",
       "        vertical-align: top;\n",
       "    }\n",
       "\n",
       "    .dataframe thead th {\n",
       "        text-align: right;\n",
       "    }\n",
       "</style>\n",
       "<table border=\"1\" class=\"dataframe\">\n",
       "  <thead>\n",
       "    <tr style=\"text-align: right;\">\n",
       "      <th></th>\n",
       "      <th>Country Code</th>\n",
       "      <th>Port Location</th>\n",
       "      <th>Port Name</th>\n",
       "      <th>Latitude</th>\n",
       "      <th>Longitude</th>\n",
       "      <th>UN/LOCODE</th>\n",
       "      <th>Port Type</th>\n",
       "      <th>Port Size</th>\n",
       "    </tr>\n",
       "  </thead>\n",
       "  <tbody>\n",
       "    <tr>\n",
       "      <th>0</th>\n",
       "      <td>ALB</td>\n",
       "      <td>Durres</td>\n",
       "      <td>Port of Durres</td>\n",
       "      <td>41° 18' 28\" N</td>\n",
       "      <td>19° 27' 17\" E</td>\n",
       "      <td>ALDRZ</td>\n",
       "      <td>Seaport</td>\n",
       "      <td>Small</td>\n",
       "    </tr>\n",
       "    <tr>\n",
       "      <th>1</th>\n",
       "      <td>ALB</td>\n",
       "      <td>Sarande</td>\n",
       "      <td>Port of Sarande</td>\n",
       "      <td>39° 52' 19\" N</td>\n",
       "      <td>20° 0' 20\" E</td>\n",
       "      <td>ALSAR</td>\n",
       "      <td>Pier, Jetty or Wharf</td>\n",
       "      <td>Small</td>\n",
       "    </tr>\n",
       "    <tr>\n",
       "      <th>2</th>\n",
       "      <td>ALB</td>\n",
       "      <td>Vlore</td>\n",
       "      <td>Port of Vlore</td>\n",
       "      <td>40° 28' 7\" N</td>\n",
       "      <td>19° 27' 36\" E</td>\n",
       "      <td>ALVOA</td>\n",
       "      <td>Seaport</td>\n",
       "      <td>Small</td>\n",
       "    </tr>\n",
       "    <tr>\n",
       "      <th>3</th>\n",
       "      <td>DZA</td>\n",
       "      <td>Algiers</td>\n",
       "      <td>Port of Algiers</td>\n",
       "      <td>36° 46' 25\" N</td>\n",
       "      <td>3° 4' 2\" E</td>\n",
       "      <td>DZALG</td>\n",
       "      <td>Deepwater Seaport</td>\n",
       "      <td>Large</td>\n",
       "    </tr>\n",
       "    <tr>\n",
       "      <th>4</th>\n",
       "      <td>DZA</td>\n",
       "      <td>Annaba</td>\n",
       "      <td>Port of Annaba</td>\n",
       "      <td>36° 54' 2\" N</td>\n",
       "      <td>7° 46' 21\" E</td>\n",
       "      <td>DZAAE</td>\n",
       "      <td>Seaport</td>\n",
       "      <td>Medium</td>\n",
       "    </tr>\n",
       "  </tbody>\n",
       "</table>\n",
       "</div>"
      ],
      "text/plain": [
       "  Country Code Port Location        Port Name       Latitude      Longitude  \\\n",
       "0          ALB        Durres   Port of Durres  41° 18' 28\" N  19° 27' 17\" E   \n",
       "1          ALB       Sarande  Port of Sarande  39° 52' 19\" N   20° 0' 20\" E   \n",
       "2          ALB         Vlore    Port of Vlore   40° 28' 7\" N  19° 27' 36\" E   \n",
       "3          DZA       Algiers  Port of Algiers  36° 46' 25\" N     3° 4' 2\" E   \n",
       "4          DZA        Annaba   Port of Annaba   36° 54' 2\" N   7° 46' 21\" E   \n",
       "\n",
       "  UN/LOCODE             Port Type Port Size  \n",
       "0     ALDRZ               Seaport     Small  \n",
       "1     ALSAR  Pier, Jetty or Wharf     Small  \n",
       "2     ALVOA               Seaport     Small  \n",
       "3     DZALG     Deepwater Seaport     Large  \n",
       "4     DZAAE               Seaport    Medium  "
      ]
     },
     "execution_count": 42,
     "metadata": {},
     "output_type": "execute_result"
    }
   ],
   "source": [
    "#subset data into country code, port name, lat, long, etc\n",
    "coastal_subset = coastal.drop(['Port Authority', 'Address', 'Phone', 'Fax', '800 Number', 'Email', 'Web Site', 'Country'], axis=1)\n",
    "coastal_subset.head()"
   ]
  },
  {
   "cell_type": "code",
   "execution_count": 27,
   "id": "5d88ea53-65af-4e42-8197-51ce1455acb9",
   "metadata": {},
   "outputs": [
    {
     "data": {
      "text/plain": [
       "'9° 59\\' 22\" N'"
      ]
     },
     "execution_count": 27,
     "metadata": {},
     "output_type": "execute_result"
    }
   ],
   "source": [
    "coastal_subset.Longitude.min()\n",
    "coastal_subset.Longitude.max()\n",
    "coastal_subset.Latitude.min()\n",
    "coastal_subset.Latitude.max()"
   ]
  },
  {
   "cell_type": "code",
   "execution_count": 30,
   "id": "3c25d781-2b8a-431b-b261-af7a471c0928",
   "metadata": {},
   "outputs": [
    {
     "data": {
      "text/plain": [
       "('0° 0\\' 0\" E', '9° 9\\' 32\" W', '0° 1\\' 22\" S', '9° 59\\' 22\" N')"
      ]
     },
     "execution_count": 30,
     "metadata": {},
     "output_type": "execute_result"
    }
   ],
   "source": [
    "#define bounding box - area defined by two longitudes and two latitudes\n",
    "BBox = ((coastal_subset.Longitude.min(), \n",
    "         coastal_subset.Longitude.max(), \n",
    "         coastal_subset.Latitude.min(), \n",
    "         coastal_subset.Latitude.max()))\n",
    "BBox"
   ]
  },
  {
   "cell_type": "code",
   "execution_count": 39,
   "id": "3fe45701-31f5-4445-aecd-e2c2d0b7cc95",
   "metadata": {},
   "outputs": [],
   "source": [
    "#load map image \n",
    "worldmap = plt.imread('worldmap.png')"
   ]
  },
  {
   "cell_type": "code",
   "execution_count": 36,
   "id": "65d9d6e0-a927-4475-92a6-54cd6e9af3d5",
   "metadata": {},
   "outputs": [
    {
     "ename": "TypeError",
     "evalue": "ufunc 'isfinite' not supported for the input types, and the inputs could not be safely coerced to any supported types according to the casting rule ''safe''",
     "output_type": "error",
     "traceback": [
      "\u001b[0;31m---------------------------------------------------------------------------\u001b[0m",
      "\u001b[0;31mTypeError\u001b[0m                                 Traceback (most recent call last)",
      "Input \u001b[0;32mIn [36]\u001b[0m, in \u001b[0;36m<cell line: 8>\u001b[0;34m()\u001b[0m\n\u001b[1;32m      6\u001b[0m ax\u001b[38;5;241m.\u001b[39mset_xlim(BBox[\u001b[38;5;241m0\u001b[39m],BBox[\u001b[38;5;241m1\u001b[39m])\n\u001b[1;32m      7\u001b[0m ax\u001b[38;5;241m.\u001b[39mset_ylim(BBox[\u001b[38;5;241m2\u001b[39m],BBox[\u001b[38;5;241m3\u001b[39m])\n\u001b[0;32m----> 8\u001b[0m \u001b[43max\u001b[49m\u001b[38;5;241;43m.\u001b[39;49m\u001b[43mimshow\u001b[49m\u001b[43m(\u001b[49m\u001b[43mworldmap\u001b[49m\u001b[43m,\u001b[49m\u001b[43m \u001b[49m\u001b[43mzorder\u001b[49m\u001b[38;5;241;43m=\u001b[39;49m\u001b[38;5;241;43m0\u001b[39;49m\u001b[43m,\u001b[49m\u001b[43m \u001b[49m\u001b[43mextent\u001b[49m\u001b[43m \u001b[49m\u001b[38;5;241;43m=\u001b[39;49m\u001b[43m \u001b[49m\u001b[43mBBox\u001b[49m\u001b[43m,\u001b[49m\u001b[43m \u001b[49m\u001b[43maspect\u001b[49m\u001b[38;5;241;43m=\u001b[39;49m\u001b[43m \u001b[49m\u001b[38;5;124;43m'\u001b[39;49m\u001b[38;5;124;43mequal\u001b[39;49m\u001b[38;5;124;43m'\u001b[39;49m\u001b[43m)\u001b[49m\n",
      "File \u001b[0;32m~/opt/anaconda3/lib/python3.9/site-packages/matplotlib/_api/deprecation.py:456\u001b[0m, in \u001b[0;36mmake_keyword_only.<locals>.wrapper\u001b[0;34m(*args, **kwargs)\u001b[0m\n\u001b[1;32m    450\u001b[0m \u001b[38;5;28;01mif\u001b[39;00m \u001b[38;5;28mlen\u001b[39m(args) \u001b[38;5;241m>\u001b[39m name_idx:\n\u001b[1;32m    451\u001b[0m     warn_deprecated(\n\u001b[1;32m    452\u001b[0m         since, message\u001b[38;5;241m=\u001b[39m\u001b[38;5;124m\"\u001b[39m\u001b[38;5;124mPassing the \u001b[39m\u001b[38;5;132;01m%(name)s\u001b[39;00m\u001b[38;5;124m \u001b[39m\u001b[38;5;132;01m%(obj_type)s\u001b[39;00m\u001b[38;5;124m \u001b[39m\u001b[38;5;124m\"\u001b[39m\n\u001b[1;32m    453\u001b[0m         \u001b[38;5;124m\"\u001b[39m\u001b[38;5;124mpositionally is deprecated since Matplotlib \u001b[39m\u001b[38;5;132;01m%(since)s\u001b[39;00m\u001b[38;5;124m; the \u001b[39m\u001b[38;5;124m\"\u001b[39m\n\u001b[1;32m    454\u001b[0m         \u001b[38;5;124m\"\u001b[39m\u001b[38;5;124mparameter will become keyword-only \u001b[39m\u001b[38;5;132;01m%(removal)s\u001b[39;00m\u001b[38;5;124m.\u001b[39m\u001b[38;5;124m\"\u001b[39m,\n\u001b[1;32m    455\u001b[0m         name\u001b[38;5;241m=\u001b[39mname, obj_type\u001b[38;5;241m=\u001b[39m\u001b[38;5;124mf\u001b[39m\u001b[38;5;124m\"\u001b[39m\u001b[38;5;124mparameter of \u001b[39m\u001b[38;5;132;01m{\u001b[39;00mfunc\u001b[38;5;241m.\u001b[39m\u001b[38;5;18m__name__\u001b[39m\u001b[38;5;132;01m}\u001b[39;00m\u001b[38;5;124m()\u001b[39m\u001b[38;5;124m\"\u001b[39m)\n\u001b[0;32m--> 456\u001b[0m \u001b[38;5;28;01mreturn\u001b[39;00m \u001b[43mfunc\u001b[49m\u001b[43m(\u001b[49m\u001b[38;5;241;43m*\u001b[39;49m\u001b[43margs\u001b[49m\u001b[43m,\u001b[49m\u001b[43m \u001b[49m\u001b[38;5;241;43m*\u001b[39;49m\u001b[38;5;241;43m*\u001b[39;49m\u001b[43mkwargs\u001b[49m\u001b[43m)\u001b[49m\n",
      "File \u001b[0;32m~/opt/anaconda3/lib/python3.9/site-packages/matplotlib/__init__.py:1412\u001b[0m, in \u001b[0;36m_preprocess_data.<locals>.inner\u001b[0;34m(ax, data, *args, **kwargs)\u001b[0m\n\u001b[1;32m   1409\u001b[0m \u001b[38;5;129m@functools\u001b[39m\u001b[38;5;241m.\u001b[39mwraps(func)\n\u001b[1;32m   1410\u001b[0m \u001b[38;5;28;01mdef\u001b[39;00m \u001b[38;5;21minner\u001b[39m(ax, \u001b[38;5;241m*\u001b[39margs, data\u001b[38;5;241m=\u001b[39m\u001b[38;5;28;01mNone\u001b[39;00m, \u001b[38;5;241m*\u001b[39m\u001b[38;5;241m*\u001b[39mkwargs):\n\u001b[1;32m   1411\u001b[0m     \u001b[38;5;28;01mif\u001b[39;00m data \u001b[38;5;129;01mis\u001b[39;00m \u001b[38;5;28;01mNone\u001b[39;00m:\n\u001b[0;32m-> 1412\u001b[0m         \u001b[38;5;28;01mreturn\u001b[39;00m \u001b[43mfunc\u001b[49m\u001b[43m(\u001b[49m\u001b[43max\u001b[49m\u001b[43m,\u001b[49m\u001b[43m \u001b[49m\u001b[38;5;241;43m*\u001b[39;49m\u001b[38;5;28;43mmap\u001b[39;49m\u001b[43m(\u001b[49m\u001b[43msanitize_sequence\u001b[49m\u001b[43m,\u001b[49m\u001b[43m \u001b[49m\u001b[43margs\u001b[49m\u001b[43m)\u001b[49m\u001b[43m,\u001b[49m\u001b[43m \u001b[49m\u001b[38;5;241;43m*\u001b[39;49m\u001b[38;5;241;43m*\u001b[39;49m\u001b[43mkwargs\u001b[49m\u001b[43m)\u001b[49m\n\u001b[1;32m   1414\u001b[0m     bound \u001b[38;5;241m=\u001b[39m new_sig\u001b[38;5;241m.\u001b[39mbind(ax, \u001b[38;5;241m*\u001b[39margs, \u001b[38;5;241m*\u001b[39m\u001b[38;5;241m*\u001b[39mkwargs)\n\u001b[1;32m   1415\u001b[0m     auto_label \u001b[38;5;241m=\u001b[39m (bound\u001b[38;5;241m.\u001b[39marguments\u001b[38;5;241m.\u001b[39mget(label_namer)\n\u001b[1;32m   1416\u001b[0m                   \u001b[38;5;129;01mor\u001b[39;00m bound\u001b[38;5;241m.\u001b[39mkwargs\u001b[38;5;241m.\u001b[39mget(label_namer))\n",
      "File \u001b[0;32m~/opt/anaconda3/lib/python3.9/site-packages/matplotlib/axes/_axes.py:5498\u001b[0m, in \u001b[0;36mAxes.imshow\u001b[0;34m(self, X, cmap, norm, aspect, interpolation, alpha, vmin, vmax, origin, extent, interpolation_stage, filternorm, filterrad, resample, url, **kwargs)\u001b[0m\n\u001b[1;32m   5494\u001b[0m im\u001b[38;5;241m.\u001b[39mset_url(url)\n\u001b[1;32m   5496\u001b[0m \u001b[38;5;66;03m# update ax.dataLim, and, if autoscaling, set viewLim\u001b[39;00m\n\u001b[1;32m   5497\u001b[0m \u001b[38;5;66;03m# to tightly fit the image, regardless of dataLim.\u001b[39;00m\n\u001b[0;32m-> 5498\u001b[0m \u001b[43mim\u001b[49m\u001b[38;5;241;43m.\u001b[39;49m\u001b[43mset_extent\u001b[49m\u001b[43m(\u001b[49m\u001b[43mim\u001b[49m\u001b[38;5;241;43m.\u001b[39;49m\u001b[43mget_extent\u001b[49m\u001b[43m(\u001b[49m\u001b[43m)\u001b[49m\u001b[43m)\u001b[49m\n\u001b[1;32m   5500\u001b[0m \u001b[38;5;28mself\u001b[39m\u001b[38;5;241m.\u001b[39madd_image(im)\n\u001b[1;32m   5501\u001b[0m \u001b[38;5;28;01mreturn\u001b[39;00m im\n",
      "File \u001b[0;32m~/opt/anaconda3/lib/python3.9/site-packages/matplotlib/image.py:982\u001b[0m, in \u001b[0;36mAxesImage.set_extent\u001b[0;34m(self, extent)\u001b[0m\n\u001b[1;32m    980\u001b[0m \u001b[38;5;28mself\u001b[39m\u001b[38;5;241m.\u001b[39m_extent \u001b[38;5;241m=\u001b[39m xmin, xmax, ymin, ymax \u001b[38;5;241m=\u001b[39m extent\n\u001b[1;32m    981\u001b[0m corners \u001b[38;5;241m=\u001b[39m (xmin, ymin), (xmax, ymax)\n\u001b[0;32m--> 982\u001b[0m \u001b[38;5;28;43mself\u001b[39;49m\u001b[38;5;241;43m.\u001b[39;49m\u001b[43maxes\u001b[49m\u001b[38;5;241;43m.\u001b[39;49m\u001b[43mupdate_datalim\u001b[49m\u001b[43m(\u001b[49m\u001b[43mcorners\u001b[49m\u001b[43m)\u001b[49m\n\u001b[1;32m    983\u001b[0m \u001b[38;5;28mself\u001b[39m\u001b[38;5;241m.\u001b[39msticky_edges\u001b[38;5;241m.\u001b[39mx[:] \u001b[38;5;241m=\u001b[39m [xmin, xmax]\n\u001b[1;32m    984\u001b[0m \u001b[38;5;28mself\u001b[39m\u001b[38;5;241m.\u001b[39msticky_edges\u001b[38;5;241m.\u001b[39my[:] \u001b[38;5;241m=\u001b[39m [ymin, ymax]\n",
      "File \u001b[0;32m~/opt/anaconda3/lib/python3.9/site-packages/matplotlib/axes/_base.py:2476\u001b[0m, in \u001b[0;36m_AxesBase.update_datalim\u001b[0;34m(self, xys, updatex, updatey)\u001b[0m\n\u001b[1;32m   2458\u001b[0m \u001b[38;5;124;03m\"\"\"\u001b[39;00m\n\u001b[1;32m   2459\u001b[0m \u001b[38;5;124;03mExtend the `~.Axes.dataLim` Bbox to include the given points.\u001b[39;00m\n\u001b[1;32m   2460\u001b[0m \n\u001b[0;32m   (...)\u001b[0m\n\u001b[1;32m   2473\u001b[0m \u001b[38;5;124;03m    Whether to update the x/y limits.\u001b[39;00m\n\u001b[1;32m   2474\u001b[0m \u001b[38;5;124;03m\"\"\"\u001b[39;00m\n\u001b[1;32m   2475\u001b[0m xys \u001b[38;5;241m=\u001b[39m np\u001b[38;5;241m.\u001b[39masarray(xys)\n\u001b[0;32m-> 2476\u001b[0m \u001b[38;5;28;01mif\u001b[39;00m \u001b[38;5;129;01mnot\u001b[39;00m np\u001b[38;5;241m.\u001b[39many(\u001b[43mnp\u001b[49m\u001b[38;5;241;43m.\u001b[39;49m\u001b[43misfinite\u001b[49m\u001b[43m(\u001b[49m\u001b[43mxys\u001b[49m\u001b[43m)\u001b[49m):\n\u001b[1;32m   2477\u001b[0m     \u001b[38;5;28;01mreturn\u001b[39;00m\n\u001b[1;32m   2478\u001b[0m \u001b[38;5;28mself\u001b[39m\u001b[38;5;241m.\u001b[39mdataLim\u001b[38;5;241m.\u001b[39mupdate_from_data_xy(xys, \u001b[38;5;28mself\u001b[39m\u001b[38;5;241m.\u001b[39mignore_existing_data_limits,\n\u001b[1;32m   2479\u001b[0m                                  updatex\u001b[38;5;241m=\u001b[39mupdatex, updatey\u001b[38;5;241m=\u001b[39mupdatey)\n",
      "\u001b[0;31mTypeError\u001b[0m: ufunc 'isfinite' not supported for the input types, and the inputs could not be safely coerced to any supported types according to the casting rule ''safe''"
     ]
    },
    {
     "data": {
      "image/png": "[encoded data removed]",
      "text/plain": [
       "<Figure size 576x504 with 1 Axes>"
      ]
     },
     "metadata": {
      "needs_background": "light"
     },
     "output_type": "display_data"
    }
   ],
   "source": [
    "#plot coordinates as scatter points on 'worldmap'\n",
    "#set up the X-axis and Y-axis per bounding box ‘BBox’\n",
    "fig, ax = plt.subplots(figsize = (8,7))\n",
    "ax.scatter(coastal_subset.Longitude, coastal_subset.Latitude, zorder=1, alpha= 0.2, c='b', s=10)\n",
    "ax.set_title('Plotting Coastal Port Data on World Map')\n",
    "ax.set_xlim(BBox[0],BBox[1])\n",
    "ax.set_ylim(BBox[2],BBox[3])\n",
    "ax.imshow(worldmap, zorder=0, extent = BBox, aspect= 'equal')"
   ]
  },
  {
   "cell_type": "code",
   "execution_count": null,
   "id": "fe42d7ac-74d7-4993-a11c-5d6b2cd02ba9",
   "metadata": {},
   "outputs": [],
   "source": []
  }
 ],
 "metadata": {
  "kernelspec": {
   "display_name": "Python 3 (ipykernel)",
   "language": "python",
   "name": "python3"
  },
  "language_info": {
   "codemirror_mode": {
    "name": "ipython",
    "version": 3
   },
   "file_extension": ".py",
   "mimetype": "text/x-python",
   "name": "python",
   "nbconvert_exporter": "python",
   "pygments_lexer": "ipython3",
   "version": "3.9.12"
  }
 },
 "nbformat": 4,
 "nbformat_minor": 5
}
