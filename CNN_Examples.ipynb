{
 "cells": [
  {
   "cell_type": "markdown",
   "id": "3202f566-da02-40cd-a44e-34a556fed52c",
   "metadata": {},
   "source": [
    "#### Tensorflow Audio to CNN example\n",
    "- https://www.tensorflow.org/tutorials/audio/simple_audio"
   ]
  },
  {
   "cell_type": "code",
   "execution_count": null,
   "id": "d9f954ab-124d-4ab9-b99e-e2dfbf22294b",
   "metadata": {},
   "outputs": [],
   "source": [
    "model = models.Sequential([\n",
    "    layers.Input(shape=input_shape),\n",
    "    # Downsample the input.\n",
    "    layers.Resizing(32, 32),\n",
    "    # Normalize.\n",
    "    norm_layer,\n",
    "    layers.Conv2D(32, 3, activation='relu'),\n",
    "    layers.Conv2D(64, 3, activation='relu'),\n",
    "    layers.MaxPooling2D(),\n",
    "    layers.Dropout(0.25),\n",
    "    layers.Flatten(),\n",
    "    layers.Dense(128, activation='relu'),\n",
    "    layers.Dropout(0.5),\n",
    "    layers.Dense(num_labels),\n",
    "])\n",
    "\n",
    "model.compile(\n",
    "    optimizer=tf.keras.optimizers.Adam(),\n",
    "    loss=tf.keras.losses.SparseCategoricalCrossentropy(from_logits=True),\n",
    "    metrics=['accuracy'],\n",
    ")\n",
    "\n",
    "EPOCHS = 10\n",
    "history = model.fit(\n",
    "    train_spectrogram_ds,\n",
    "    validation_data=val_spectrogram_ds,\n",
    "    epochs=EPOCHS,\n",
    "    callbacks=tf.keras.callbacks.EarlyStopping(verbose=1, patience=2),\n",
    ")"
   ]
  },
  {
   "cell_type": "markdown",
   "id": "c42b9043-e4c4-4348-9b95-6d48cab0cd07",
   "metadata": {},
   "source": [
    "#### Kaggle Audio to CNN example\n",
    "- https://www.kaggle.com/code/christianlillelund/classify-mnist-audio-using-spectrograms-keras-cnn"
   ]
  },
  {
   "cell_type": "code",
   "execution_count": null,
   "id": "cccab14a-d6c8-4c4a-9f97-f03d49b788d9",
   "metadata": {},
   "outputs": [],
   "source": [
    "# Create CNN model\n",
    "model = tf.keras.models.Sequential()\n",
    "model.add(tf.keras.layers.Input(shape=(IMAGE_HEIGHT, IMAGE_WIDTH, N_CHANNELS)))\n",
    "model.add(tf.keras.layers.Conv2D(32, 3, strides=2, padding='same', activation='relu'))\n",
    "model.add(tf.keras.layers.BatchNormalization())\n",
    "model.add(tf.keras.layers.MaxPooling2D(pool_size=(2, 2)))\n",
    "model.add(tf.keras.layers.BatchNormalization())\n",
    "model.add(tf.keras.layers.Conv2D(64, 3, padding='same', activation='relu'))\n",
    "model.add(tf.keras.layers.BatchNormalization())\n",
    "model.add(tf.keras.layers.MaxPooling2D(pool_size=(2, 2)))\n",
    "model.add(tf.keras.layers.BatchNormalization())\n",
    "model.add(tf.keras.layers.Conv2D(128, 3, padding='same', activation='relu'))\n",
    "model.add(tf.keras.layers.BatchNormalization())\n",
    "model.add(tf.keras.layers.MaxPooling2D(pool_size=(2, 2)))\n",
    "model.add(tf.keras.layers.BatchNormalization())\n",
    "model.add(tf.keras.layers.Flatten())\n",
    "model.add(tf.keras.layers.Dense(256, activation='relu'))\n",
    "model.add(tf.keras.layers.BatchNormalization())\n",
    "model.add(tf.keras.layers.Dropout(0.5))\n",
    "model.add(tf.keras.layers.Dense(N_CLASSES, activation='softmax'))\n",
    "\n",
    "# Compile model\n",
    "model.compile(\n",
    "    loss='sparse_categorical_crossentropy',\n",
    "    optimizer=tf.keras.optimizers.RMSprop(),\n",
    "    metrics=['accuracy'],\n",
    ")\n",
    "\n",
    "# Train model for 10 epochs, capture the history\n",
    "history = model.fit(train_dataset, epochs=10, validation_data=valid_dataset)"
   ]
  },
  {
   "cell_type": "markdown",
   "id": "7576df53-74eb-4c83-9544-8dfe8fbcbb82",
   "metadata": {
    "tags": []
   },
   "source": [
    "#### Toward Data Science Audio to CNN example\n",
    "- https://towardsdatascience.com/cnns-for-audio-classification-6244954665ab"
   ]
  },
  {
   "cell_type": "code",
   "execution_count": null,
   "id": "a54a3efc-f4ee-4c18-b54a-c635a1e2b76b",
   "metadata": {},
   "outputs": [],
   "source": [
    "#simpler example\n",
    "input_shape=(128,1000,3)\n",
    "CNNmodel = models.Sequential()\n",
    "CNNmodel.add(layers.Conv2D(32, (3, 3), activation='relu', input_shape=input_shape))\n",
    "CNNmodel.add(layers.MaxPooling2D((2, 2)))\n",
    "CNNmodel.add(layers.Flatten())\n",
    "CNNmodel.add(layers.Dense(32, activation='relu'))\n",
    "CNNmodel.add(layers.Dense(24, activation='softmax'))\n",
    "CNNmodel.summary()"
   ]
  },
  {
   "cell_type": "code",
   "execution_count": null,
   "id": "b49b4d45-d759-4ec2-b75d-7aadf2f9ab08",
   "metadata": {},
   "outputs": [],
   "source": [
    "#more complex example\n",
    "input_shape=(128,1000,3)\n",
    "CNNmodel = models.Sequential()\n",
    "CNNmodel.add(layers.Conv2D(32, (3, 3), activation='relu', input_shape=input_shape))\n",
    "CNNmodel.add(layers.MaxPooling2D((2, 2)))\n",
    "CNNmodel.add(layers.Dropout(0.2))\n",
    "CNNmodel.add(layers.Conv2D(64, (3, 3), activation='relu'))\n",
    "CNNmodel.add(layers.MaxPooling2D((2, 2)))\n",
    "CNNmodel.add(layers.Dropout(0.2))\n",
    "CNNmodel.add(layers.Conv2D(64, (3, 3), activation='relu'))\n",
    "CNNmodel.add(layers.Flatten())\n",
    "CNNmodel.add(layers.Dense(64, activation='relu'))\n",
    "CNNmodel.add(layers.Dropout(0.2))\n",
    "CNNmodel.add(layers.Dense(32, activation='relu'))\n",
    "CNNmodel.add(layers.Dense(24, activation='softmax'))\n",
    "\n",
    "CNNmodel.compile(optimizer='adam',\n",
    "                 loss=tf.keras.losses.SparseCategoricalCrossentropy(from_logits=False),\n",
    "                 metrics=['accuracy'])\n",
    "\n",
    "history = CNNmodel.fit(X_train, y_train, epochs=20, validation_data= (X_val, y_val))"
   ]
  }
 ],
 "metadata": {
  "kernelspec": {
   "display_name": "Python 3 (ipykernel)",
   "language": "python",
   "name": "python3"
  },
  "language_info": {
   "codemirror_mode": {
    "name": "ipython",
    "version": 3
   },
   "file_extension": ".py",
   "mimetype": "text/x-python",
   "name": "python",
   "nbconvert_exporter": "python",
   "pygments_lexer": "ipython3",
   "version": "3.9.7"
  }
 },
 "nbformat": 4,
 "nbformat_minor": 5
}
