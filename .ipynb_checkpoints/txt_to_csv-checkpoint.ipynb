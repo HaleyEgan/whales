{
 "cells": [
  {
   "cell_type": "markdown",
   "id": "c74c4b41-9527-4205-b14d-002c3cc58d28",
   "metadata": {},
   "source": [
    "Convert Garland .txt data to .csv"
   ]
  },
  {
   "cell_type": "code",
   "execution_count": 4,
   "id": "cfa9da64-18f8-4581-972a-72bc8f46e22e",
   "metadata": {},
   "outputs": [],
   "source": [
    "import csv\n",
    "\n",
    "with open('garlandTextData.txt', 'r') as input_file:\n",
    "    with open('garlandTextData.csv', 'w', newline='') as output_file:\n",
    "        csv_writer = csv.writer(output_file)\n",
    "        for line in input_file:\n",
    "            csv_writer.writerow(line.strip().split(','))\n"
   ]
  },
  {
   "cell_type": "code",
   "execution_count": null,
   "id": "ded4c7a8-b868-4ac2-ada7-c0eb6549cb05",
   "metadata": {},
   "outputs": [],
   "source": []
  }
 ],
 "metadata": {
  "kernelspec": {
   "display_name": "Python 3 (ipykernel)",
   "language": "python",
   "name": "python3"
  },
  "language_info": {
   "codemirror_mode": {
    "name": "ipython",
    "version": 3
   },
   "file_extension": ".py",
   "mimetype": "text/x-python",
   "name": "python",
   "nbconvert_exporter": "python",
   "pygments_lexer": "ipython3",
   "version": "3.9.7"
  }
 },
 "nbformat": 4,
 "nbformat_minor": 5
}
