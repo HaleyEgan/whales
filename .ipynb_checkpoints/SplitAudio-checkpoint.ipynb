{
 "cells": [
  {
   "cell_type": "code",
   "execution_count": 11,
   "id": "c3bea36f-1363-431a-80fb-be41d8502d93",
   "metadata": {},
   "outputs": [],
   "source": [
    "from pydub import AudioSegment\n",
    "import os"
   ]
  },
  {
   "cell_type": "code",
   "execution_count": 26,
   "id": "6de1c12c-5ff2-4030-a3c6-54a76c18b2a2",
   "metadata": {},
   "outputs": [],
   "source": [
    "def split_wav_file(wav_file):\n",
    "    # Load the audio file using pydub\n",
    "    audio = AudioSegment.from_wav(wav_file)\n",
    "\n",
    "    # Get the duration of the audio file in milliseconds\n",
    "    audio_length_ms = len(audio)\n",
    "\n",
    "    # Calculate the number of 30-second segments in the audio file\n",
    "    segment_length_ms = 30 * 1000\n",
    "    num_segments = audio_length_ms // segment_length_ms\n",
    "\n",
    "    # Create a directory to save the segmented audio files\n",
    "    output_dir = os.path.join(\"HumpbackAudioSegments\", \"HawaiiArchipelago\")\n",
    "    os.makedirs(output_dir, exist_ok=True)\n",
    "\n",
    "    # Split the audio file into consecutive 30-second segments and save each segment with a numbered filename\n",
    "    for i in range(num_segments):\n",
    "        segment_start_ms = i * segment_length_ms\n",
    "        segment_end_ms = segment_start_ms + segment_length_ms\n",
    "        segment = audio[segment_start_ms:segment_end_ms]\n",
    "        \n",
    "         # Check if the segment is 16-bit\n",
    "        if segment.sample_width != 2:\n",
    "            # Convert the segment to 16-bit if necessary\n",
    "            segment = segment.set_sample_width(2)\n",
    "        \n",
    "        output_file = os.path.join(output_dir, os.path.splitext(os.path.basename(wav_file))[0] + \"_\" + str(i+1) + \".wav\")        \n",
    "        segment.export(output_file, format=\"wav\")\n"
   ]
  },
  {
   "cell_type": "code",
   "execution_count": 27,
   "id": "f5f3692c-7391-41df-8d56-89d56531d47e",
   "metadata": {},
   "outputs": [],
   "source": [
    "#set directory paths\n",
    "audio_dir = \"HumpbackAudio\"\n",
    "audio_file = \"WhaleTrustMaui_2016.wav\"\n",
    "audio_path = os.path.join(audio_dir, audio_file)\n",
    "split_wav_file(audio_path)"
   ]
  },
  {
   "cell_type": "code",
   "execution_count": null,
   "id": "50e6892a-fc49-4fd3-bb88-f1687a8acfc8",
   "metadata": {},
   "outputs": [],
   "source": []
  }
 ],
 "metadata": {
  "kernelspec": {
   "display_name": "Python 3 (ipykernel)",
   "language": "python",
   "name": "python3"
  },
  "language_info": {
   "codemirror_mode": {
    "name": "ipython",
    "version": 3
   },
   "file_extension": ".py",
   "mimetype": "text/x-python",
   "name": "python",
   "nbconvert_exporter": "python",
   "pygments_lexer": "ipython3",
   "version": "3.9.7"
  }
 },
 "nbformat": 4,
 "nbformat_minor": 5
}
