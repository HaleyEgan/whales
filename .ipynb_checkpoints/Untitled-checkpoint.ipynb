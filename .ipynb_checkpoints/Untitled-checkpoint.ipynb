{
 "cells": [
  {
   "cell_type": "code",
   "execution_count": 1,
   "id": "124b2633-75ea-431e-9e7b-732f6deb1473",
   "metadata": {},
   "outputs": [
    {
     "name": "stderr",
     "output_type": "stream",
     "text": [
      "[nltk_data] Downloading package genesis to\n",
      "[nltk_data]     C:\\Users\\haley\\AppData\\Roaming\\nltk_data...\n",
      "[nltk_data]   Package genesis is already up-to-date!\n",
      "[nltk_data] Downloading package punkt to\n",
      "[nltk_data]     C:\\Users\\haley\\AppData\\Roaming\\nltk_data...\n",
      "[nltk_data]   Package punkt is already up-to-date!\n"
     ]
    }
   ],
   "source": [
    "#Import libraries\n",
    "import pandas as pd, numpy as np\n",
    "\n",
    "import nltk\n",
    "nltk.download('genesis')\n",
    "nltk.download('punkt')\n",
    "from nltk.collocations import *\n",
    "from nltk.collocations import BigramAssocMeasures, BigramCollocationFinder\n",
    "\n",
    "\n",
    "#hide warnings\n",
    "import warnings\n",
    "warnings.filterwarnings('ignore')\n",
    "\n",
    "import yake\n",
    "import os\n",
    "import pathlib\n",
    "\n",
    "import pyLDAvis.gensim\n",
    "import pickle \n",
    "import pyLDAvis\n",
    "import pyLDAvis.sklearn\n",
    "pyLDAvis.enable_notebook()\n",
    "\n",
    "from sklearn.feature_extraction.text import CountVectorizer, TfidfVectorizer\n",
    "from sklearn.decomposition import LatentDirichletAllocation"
   ]
  },
  {
   "cell_type": "code",
   "execution_count": 2,
   "id": "ef0d126f-3a02-4ab6-b015-264874a86568",
   "metadata": {},
   "outputs": [],
   "source": [
    "bigram_measures = nltk.collocations.BigramAssocMeasures()\n",
    "trigram_measures = nltk.collocations.TrigramAssocMeasures()"
   ]
  },
  {
   "cell_type": "code",
   "execution_count": 3,
   "id": "31d3cf7d-7651-419e-a89e-e24f327a6f00",
   "metadata": {},
   "outputs": [],
   "source": [
    "os.getcwd()\n",
    "path = 'C:\\\\Users\\\\haley\\\\Documents\\\\GitHub\\\\whales'\n",
    "os.chdir(path)"
   ]
  },
  {
   "cell_type": "code",
   "execution_count": 12,
   "id": "cc58423d-dc0d-46c4-9edb-c8b107800f30",
   "metadata": {},
   "outputs": [
    {
     "data": {
      "text/html": [
       "<div>\n",
       "<style scoped>\n",
       "    .dataframe tbody tr th:only-of-type {\n",
       "        vertical-align: middle;\n",
       "    }\n",
       "\n",
       "    .dataframe tbody tr th {\n",
       "        vertical-align: top;\n",
       "    }\n",
       "\n",
       "    .dataframe thead th {\n",
       "        text-align: right;\n",
       "    }\n",
       "</style>\n",
       "<table border=\"1\" class=\"dataframe\">\n",
       "  <thead>\n",
       "    <tr style=\"text-align: right;\">\n",
       "      <th></th>\n",
       "      <th>0</th>\n",
       "    </tr>\n",
       "  </thead>\n",
       "  <tbody>\n",
       "    <tr>\n",
       "      <th>0</th>\n",
       "      <td>f, f, FP_2016_5, f, am, am, hq, hq, hq, sq, hq...</td>\n",
       "    </tr>\n",
       "    <tr>\n",
       "      <th>1</th>\n",
       "      <td>f, f, FP_2016_7a, f, am, am, as</td>\n",
       "    </tr>\n",
       "    <tr>\n",
       "      <th>2</th>\n",
       "      <td>f, f, FP_2016_7a, f, am, am, as</td>\n",
       "    </tr>\n",
       "    <tr>\n",
       "      <th>3</th>\n",
       "      <td>f, f, FP_2016_1, f, lm, as, aws, aws, aws</td>\n",
       "    </tr>\n",
       "    <tr>\n",
       "      <th>4</th>\n",
       "      <td>f, f, FP_2016_1, f, lm-as, aws, aws(s), aws</td>\n",
       "    </tr>\n",
       "  </tbody>\n",
       "</table>\n",
       "</div>"
      ],
      "text/plain": [
       "                                                   0\n",
       "0  f, f, FP_2016_5, f, am, am, hq, hq, hq, sq, hq...\n",
       "1                    f, f, FP_2016_7a, f, am, am, as\n",
       "2                    f, f, FP_2016_7a, f, am, am, as\n",
       "3          f, f, FP_2016_1, f, lm, as, aws, aws, aws\n",
       "4        f, f, FP_2016_1, f, lm-as, aws, aws(s), aws"
      ]
     },
     "execution_count": 12,
     "metadata": {},
     "output_type": "execute_result"
    }
   ],
   "source": [
    "#load file\n",
    "data = pd.read_csv(\"garlandTextData.txt\", sep=\"\\t\", header = None)\n",
    "data.head()"
   ]
  },
  {
   "cell_type": "code",
   "execution_count": 14,
   "id": "2dc8d6b8-8405-448e-9879-09ab1dc1d945",
   "metadata": {},
   "outputs": [
    {
     "ename": "IndexError",
     "evalue": "list index out of range",
     "output_type": "error",
     "traceback": [
      "\u001b[1;31m---------------------------------------------------------------------------\u001b[0m",
      "\u001b[1;31mIndexError\u001b[0m                                Traceback (most recent call last)",
      "Input \u001b[1;32mIn [14]\u001b[0m, in \u001b[0;36m<cell line: 7>\u001b[1;34m()\u001b[0m\n\u001b[0;32m     13\u001b[0m split_text \u001b[38;5;241m=\u001b[39m line\u001b[38;5;241m.\u001b[39msplit(\u001b[38;5;124m\"\u001b[39m\u001b[38;5;124m, \u001b[39m\u001b[38;5;124m\"\u001b[39m)\n\u001b[0;32m     15\u001b[0m \u001b[38;5;66;03m#get the region\u001b[39;00m\n\u001b[1;32m---> 16\u001b[0m region \u001b[38;5;241m=\u001b[39m \u001b[43msplit_text\u001b[49m\u001b[43m[\u001b[49m\u001b[38;5;241;43m2\u001b[39;49m\u001b[43m]\u001b[49m[:\u001b[38;5;241m2\u001b[39m]\n\u001b[0;32m     18\u001b[0m \u001b[38;5;66;03m#get the text after the 4th comma\u001b[39;00m\n\u001b[0;32m     19\u001b[0m text \u001b[38;5;241m=\u001b[39m \u001b[38;5;124m\"\u001b[39m\u001b[38;5;124m, \u001b[39m\u001b[38;5;124m\"\u001b[39m\u001b[38;5;241m.\u001b[39mjoin(split_text[\u001b[38;5;241m4\u001b[39m:])\n",
      "\u001b[1;31mIndexError\u001b[0m: list index out of range"
     ]
    }
   ],
   "source": [
    "import pandas as pd\n",
    "\n",
    "#create an empty dataframe with columns 'Region' and 'Text'\n",
    "df = pd.DataFrame(columns=['Region', 'Text'])\n",
    "\n",
    "#loop through each line of text\n",
    "for line in data:\n",
    "  \n",
    "  # convert integer to text\n",
    "  line = str(line)\n",
    "  \n",
    "  #split the text by commas\n",
    "  split_text = line.split(\", \")\n",
    "  \n",
    "  #get the region\n",
    "  region = split_text[2][:2]\n",
    "  \n",
    "  #get the text after the 4th comma\n",
    "  text = \", \".join(split_text[4:])\n",
    "  \n",
    "  #check if the region is 'FP' or 'EC', and append the text to the dataframe accordingly\n",
    "  if region == \"FP\":\n",
    "    df = df.append({'Region': 'FP', 'Text': text}, ignore_index=True)\n",
    "  elif region == \"EC\":\n",
    "    df = df.append({'Region': 'EC', 'Text': text}, ignore_index=True)\n"
   ]
  },
  {
   "cell_type": "code",
   "execution_count": null,
   "id": "9ee2a6dd-148b-4e90-be2c-669caee541c2",
   "metadata": {},
   "outputs": [],
   "source": []
  }
 ],
 "metadata": {
  "kernelspec": {
   "display_name": "Python 3 (ipykernel)",
   "language": "python",
   "name": "python3"
  },
  "language_info": {
   "codemirror_mode": {
    "name": "ipython",
    "version": 3
   },
   "file_extension": ".py",
   "mimetype": "text/x-python",
   "name": "python",
   "nbconvert_exporter": "python",
   "pygments_lexer": "ipython3",
   "version": "3.9.7"
  }
 },
 "nbformat": 4,
 "nbformat_minor": 5
}
